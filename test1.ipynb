{
 "cells": [
  {
   "cell_type": "code",
   "id": "initial_id",
   "metadata": {
    "collapsed": true,
    "ExecuteTime": {
     "end_time": "2025-01-11T11:12:12.410382Z",
     "start_time": "2025-01-11T11:12:12.406578Z"
    }
   },
   "source": [
    "#Link with local GPU\n",
    "\n",
    "import torch\n",
    "print(f\"get device name : {torch.cuda.get_device_name(0)}\")\n",
    "print(f\"is available : {torch.cuda.is_available()}\")\n",
    "print(f\"torch version : {torch.__version__}\")"
   ],
   "outputs": [
    {
     "name": "stdout",
     "output_type": "stream",
     "text": [
      "get device name : NVIDIA GeForce RTX 4080 SUPER\n",
      "is available : True\n",
      "torch version : 2.5.1\n"
     ]
    }
   ],
   "execution_count": 2
  },
  {
   "metadata": {},
   "cell_type": "code",
   "outputs": [],
   "execution_count": null,
   "source": "#new limit.",
   "id": "986e4edee6a1c1c2"
  }
 ],
 "metadata": {
  "kernelspec": {
   "display_name": "Python 3",
   "language": "python",
   "name": "python3"
  },
  "language_info": {
   "codemirror_mode": {
    "name": "ipython",
    "version": 2
   },
   "file_extension": ".py",
   "mimetype": "text/x-python",
   "name": "python",
   "nbconvert_exporter": "python",
   "pygments_lexer": "ipython2",
   "version": "2.7.6"
  }
 },
 "nbformat": 4,
 "nbformat_minor": 5
}
