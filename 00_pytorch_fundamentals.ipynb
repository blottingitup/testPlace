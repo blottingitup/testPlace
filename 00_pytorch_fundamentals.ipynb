{
 "cells": [
  {
   "metadata": {
    "ExecuteTime": {
     "end_time": "2025-01-13T03:30:46.800180Z",
     "start_time": "2025-01-13T03:30:44.435020Z"
    }
   },
   "cell_type": "code",
   "source": [
    "# Testing for required packages\n",
    "\n",
    "import pandas as pd\n",
    "import numpy as np\n",
    "import torch\n",
    "import sklearn\n",
    "import matplotlib\n",
    "import torchinfo, torchmetrics\n",
    "\n",
    "# Check PyTorch access (should print out a tensor)\n",
    "print(torch.randn(3, 3))\n",
    "\n",
    "# Check for GPU (should return True)\n",
    "print(torch.cuda.is_available())"
   ],
   "id": "3a6e6ec214590a5c",
   "outputs": [
    {
     "name": "stdout",
     "output_type": "stream",
     "text": [
      "tensor([[-0.4056,  1.3384, -1.3961],\n",
      "        [ 1.4582, -1.3275,  0.1073],\n",
      "        [ 0.0046,  0.1541, -0.1120]])\n",
      "True\n"
     ]
    }
   ],
   "execution_count": 1
  },
  {
   "metadata": {
    "ExecuteTime": {
     "end_time": "2025-01-14T04:36:47.787767Z",
     "start_time": "2025-01-14T04:36:45.810872Z"
    }
   },
   "cell_type": "code",
   "source": [
    "import torch\n",
    "print(torch.__version__)"
   ],
   "id": "36a415c877fc87c7",
   "outputs": [
    {
     "name": "stdout",
     "output_type": "stream",
     "text": [
      "2.5.1\n"
     ]
    }
   ],
   "execution_count": 2
  },
  {
   "metadata": {
    "ExecuteTime": {
     "end_time": "2025-01-13T04:21:46.728843Z",
     "start_time": "2025-01-13T04:21:46.711305Z"
    }
   },
   "cell_type": "code",
   "source": [
    "# More about tensors: https://pytorch.org/docs/stable/tensors.html\n",
    "\n",
    "scalar = torch.tensor(7)\n",
    "print(scalar)"
   ],
   "id": "61513757a5617012",
   "outputs": [
    {
     "name": "stdout",
     "output_type": "stream",
     "text": [
      "tensor(7)\n"
     ]
    }
   ],
   "execution_count": 12
  },
  {
   "metadata": {
    "ExecuteTime": {
     "end_time": "2025-01-13T04:25:09.272811Z",
     "start_time": "2025-01-13T04:25:09.259607Z"
    }
   },
   "cell_type": "code",
   "source": "scalar.ndim",
   "id": "f741afc92e69474b",
   "outputs": [
    {
     "data": {
      "text/plain": [
       "0"
      ]
     },
     "execution_count": 18,
     "metadata": {},
     "output_type": "execute_result"
    }
   ],
   "execution_count": 18
  },
  {
   "metadata": {
    "ExecuteTime": {
     "end_time": "2025-01-13T04:25:10.685390Z",
     "start_time": "2025-01-13T04:25:10.670857Z"
    }
   },
   "cell_type": "code",
   "source": [
    "# Get tensor back as Python int\n",
    "scalar.item()"
   ],
   "id": "89de20fdd1a3c05",
   "outputs": [
    {
     "data": {
      "text/plain": [
       "7"
      ]
     },
     "execution_count": 19,
     "metadata": {},
     "output_type": "execute_result"
    }
   ],
   "execution_count": 19
  },
  {
   "metadata": {
    "ExecuteTime": {
     "end_time": "2025-01-13T04:25:49.435471Z",
     "start_time": "2025-01-13T04:25:49.422399Z"
    }
   },
   "cell_type": "code",
   "source": [
    "# Vector\n",
    "vector = torch.tensor([7, 7])\n",
    "vector"
   ],
   "id": "b2213bcc252ee194",
   "outputs": [
    {
     "data": {
      "text/plain": [
       "tensor([7, 7])"
      ]
     },
     "execution_count": 21,
     "metadata": {},
     "output_type": "execute_result"
    }
   ],
   "execution_count": 21
  },
  {
   "metadata": {
    "ExecuteTime": {
     "end_time": "2025-01-13T04:26:37.775314Z",
     "start_time": "2025-01-13T04:26:37.761171Z"
    }
   },
   "cell_type": "code",
   "source": "vector.shape",
   "id": "db78e763e9a8f2dd",
   "outputs": [
    {
     "data": {
      "text/plain": [
       "torch.Size([2])"
      ]
     },
     "execution_count": 22,
     "metadata": {},
     "output_type": "execute_result"
    }
   ],
   "execution_count": 22
  },
  {
   "metadata": {
    "ExecuteTime": {
     "end_time": "2025-01-13T04:28:02.531188Z",
     "start_time": "2025-01-13T04:28:02.517169Z"
    }
   },
   "cell_type": "code",
   "source": [
    "# MATRIX\n",
    "MATRIX = torch.tensor([[7, 8],\n",
    "                      [9, 10]])\n",
    "MATRIX"
   ],
   "id": "f89bb741dd0a06a2",
   "outputs": [
    {
     "data": {
      "text/plain": [
       "tensor([[ 7,  8],\n",
       "        [ 9, 10]])"
      ]
     },
     "execution_count": 25,
     "metadata": {},
     "output_type": "execute_result"
    }
   ],
   "execution_count": 25
  },
  {
   "metadata": {
    "ExecuteTime": {
     "end_time": "2025-01-13T04:28:22.807994Z",
     "start_time": "2025-01-13T04:28:22.793861Z"
    }
   },
   "cell_type": "code",
   "source": "MATRIX.ndim",
   "id": "9e612e43445f9cef",
   "outputs": [
    {
     "data": {
      "text/plain": [
       "2"
      ]
     },
     "execution_count": 26,
     "metadata": {},
     "output_type": "execute_result"
    }
   ],
   "execution_count": 26
  },
  {
   "metadata": {
    "ExecuteTime": {
     "end_time": "2025-01-13T04:28:34.547668Z",
     "start_time": "2025-01-13T04:28:34.534418Z"
    }
   },
   "cell_type": "code",
   "source": [
    "#MATRIX[0]\n",
    "MATRIX[1]"
   ],
   "id": "188f32a4e2a6eba9",
   "outputs": [
    {
     "data": {
      "text/plain": [
       "tensor([ 9, 10])"
      ]
     },
     "execution_count": 27,
     "metadata": {},
     "output_type": "execute_result"
    }
   ],
   "execution_count": 27
  },
  {
   "metadata": {
    "ExecuteTime": {
     "end_time": "2025-01-13T04:28:48.788098Z",
     "start_time": "2025-01-13T04:28:48.774442Z"
    }
   },
   "cell_type": "code",
   "source": "MATRIX.shape",
   "id": "f620ae2ab33a3819",
   "outputs": [
    {
     "data": {
      "text/plain": [
       "torch.Size([2, 2])"
      ]
     },
     "execution_count": 28,
     "metadata": {},
     "output_type": "execute_result"
    }
   ],
   "execution_count": 28
  },
  {
   "metadata": {
    "ExecuteTime": {
     "end_time": "2025-01-13T04:33:38.897845Z",
     "start_time": "2025-01-13T04:33:38.883845Z"
    }
   },
   "cell_type": "code",
   "source": [
    "# TENSOR\n",
    "TENSOR = torch.tensor([[[1, 2, 3],\n",
    "                        [3, 6, 9],\n",
    "                        [2, 4, 5],\n",
    "                        [4, 5, 6]]])\n",
    "TENSOR"
   ],
   "id": "7ab66dbd735eab27",
   "outputs": [
    {
     "data": {
      "text/plain": [
       "tensor([[[1, 2, 3],\n",
       "         [3, 6, 9],\n",
       "         [2, 4, 5],\n",
       "         [4, 5, 6]]])"
      ]
     },
     "execution_count": 33,
     "metadata": {},
     "output_type": "execute_result"
    }
   ],
   "execution_count": 33
  },
  {
   "metadata": {
    "ExecuteTime": {
     "end_time": "2025-01-13T04:33:40.479409Z",
     "start_time": "2025-01-13T04:33:40.475412Z"
    }
   },
   "cell_type": "code",
   "source": "TENSOR.ndim",
   "id": "6b9043c788f50b0d",
   "outputs": [
    {
     "data": {
      "text/plain": [
       "3"
      ]
     },
     "execution_count": 34,
     "metadata": {},
     "output_type": "execute_result"
    }
   ],
   "execution_count": 34
  },
  {
   "metadata": {
    "ExecuteTime": {
     "end_time": "2025-01-13T04:33:43.483937Z",
     "start_time": "2025-01-13T04:33:43.469645Z"
    }
   },
   "cell_type": "code",
   "source": "TENSOR.shape",
   "id": "75954b68b2d9d48c",
   "outputs": [
    {
     "data": {
      "text/plain": [
       "torch.Size([1, 4, 3])"
      ]
     },
     "execution_count": 35,
     "metadata": {},
     "output_type": "execute_result"
    }
   ],
   "execution_count": 35
  },
  {
   "metadata": {
    "ExecuteTime": {
     "end_time": "2025-01-13T04:33:57.310435Z",
     "start_time": "2025-01-13T04:33:57.294754Z"
    }
   },
   "cell_type": "code",
   "source": "TENSOR[0]",
   "id": "c1f57c5bd5b61591",
   "outputs": [
    {
     "data": {
      "text/plain": [
       "tensor([[1, 2, 3],\n",
       "        [3, 6, 9],\n",
       "        [2, 4, 5],\n",
       "        [4, 5, 6]])"
      ]
     },
     "execution_count": 36,
     "metadata": {},
     "output_type": "execute_result"
    }
   ],
   "execution_count": 36
  },
  {
   "metadata": {
    "ExecuteTime": {
     "end_time": "2025-01-13T04:44:15.231165Z",
     "start_time": "2025-01-13T04:44:15.215611Z"
    }
   },
   "cell_type": "code",
   "source": [
    "# Random tensors\n",
    "# Start with random numbers -> look at data -> update random numbers -> look at data -> update random numbers\n",
    "# Torch random tensors: https://pytorch.org/docs/main/generated/torch.rand.html\n",
    "\n",
    "# Create a random tensor of size (3, 4)\n",
    "random_tensor = torch.rand(2, 3, 4)\n",
    "random_tensor"
   ],
   "id": "d8136225679f9105",
   "outputs": [
    {
     "data": {
      "text/plain": [
       "tensor([[[0.1023, 0.8914, 0.4446, 0.8655],\n",
       "         [0.4312, 0.8294, 0.2635, 0.3456],\n",
       "         [0.8555, 0.3691, 0.0330, 0.0853]],\n",
       "\n",
       "        [[0.3483, 0.8226, 0.1097, 0.5936],\n",
       "         [0.5458, 0.4432, 0.0282, 0.8603],\n",
       "         [0.9080, 0.2644, 0.9969, 0.2431]]])"
      ]
     },
     "execution_count": 40,
     "metadata": {},
     "output_type": "execute_result"
    }
   ],
   "execution_count": 40
  },
  {
   "metadata": {
    "ExecuteTime": {
     "end_time": "2025-01-13T04:44:18.985651Z",
     "start_time": "2025-01-13T04:44:18.978141Z"
    }
   },
   "cell_type": "code",
   "source": "random_tensor.ndim",
   "id": "d8c6554a50512e7b",
   "outputs": [
    {
     "data": {
      "text/plain": [
       "3"
      ]
     },
     "execution_count": 41,
     "metadata": {},
     "output_type": "execute_result"
    }
   ],
   "execution_count": 41
  },
  {
   "metadata": {
    "ExecuteTime": {
     "end_time": "2025-01-13T04:42:25.350707Z",
     "start_time": "2025-01-13T04:42:25.335710Z"
    }
   },
   "cell_type": "code",
   "source": [
    "# Create a random tensor with similar shape to an image tensor\n",
    "random_image_size_tensor = torch.rand(size=(224, 224, 3)) # height, width, color channels (R, G, B) << color can go at the front\n",
    "random_image_size_tensor.shape, random_image_size_tensor.ndim"
   ],
   "id": "bb8cc400576ea77c",
   "outputs": [
    {
     "data": {
      "text/plain": [
       "(torch.Size([224, 224, 3]), 3)"
      ]
     },
     "execution_count": 39,
     "metadata": {},
     "output_type": "execute_result"
    }
   ],
   "execution_count": 39
  },
  {
   "metadata": {
    "ExecuteTime": {
     "end_time": "2025-01-13T04:45:27.226100Z",
     "start_time": "2025-01-13T04:45:27.211100Z"
    }
   },
   "cell_type": "code",
   "source": [
    "# Create tensors of all zeros\n",
    "zeros = torch.zeros(size=(3, 4))\n",
    "zeros"
   ],
   "id": "2dc6081722ebda4c",
   "outputs": [
    {
     "data": {
      "text/plain": [
       "tensor([[0., 0., 0., 0.],\n",
       "        [0., 0., 0., 0.],\n",
       "        [0., 0., 0., 0.]])"
      ]
     },
     "execution_count": 42,
     "metadata": {},
     "output_type": "execute_result"
    }
   ],
   "execution_count": 42
  },
  {
   "metadata": {
    "ExecuteTime": {
     "end_time": "2025-01-13T04:45:38.311297Z",
     "start_time": "2025-01-13T04:45:38.296789Z"
    }
   },
   "cell_type": "code",
   "source": "zeros*random_tensor",
   "id": "55a7ba319877de36",
   "outputs": [
    {
     "data": {
      "text/plain": [
       "tensor([[[0., 0., 0., 0.],\n",
       "         [0., 0., 0., 0.],\n",
       "         [0., 0., 0., 0.]],\n",
       "\n",
       "        [[0., 0., 0., 0.],\n",
       "         [0., 0., 0., 0.],\n",
       "         [0., 0., 0., 0.]]])"
      ]
     },
     "execution_count": 43,
     "metadata": {},
     "output_type": "execute_result"
    }
   ],
   "execution_count": 43
  },
  {
   "metadata": {
    "ExecuteTime": {
     "end_time": "2025-01-13T04:46:20.308746Z",
     "start_time": "2025-01-13T04:46:20.294746Z"
    }
   },
   "cell_type": "code",
   "source": [
    "# Create tensors of all ones\n",
    "# Tensor of all zeros or ones can work as a mask\n",
    "ones = torch.ones(size=(3, 4))\n",
    "ones"
   ],
   "id": "2a24558e2eea2cc6",
   "outputs": [
    {
     "data": {
      "text/plain": [
       "tensor([[1., 1., 1., 1.],\n",
       "        [1., 1., 1., 1.],\n",
       "        [1., 1., 1., 1.]])"
      ]
     },
     "execution_count": 44,
     "metadata": {},
     "output_type": "execute_result"
    }
   ],
   "execution_count": 44
  },
  {
   "metadata": {
    "ExecuteTime": {
     "end_time": "2025-01-13T04:46:39.174327Z",
     "start_time": "2025-01-13T04:46:39.160181Z"
    }
   },
   "cell_type": "code",
   "source": "ones.dtype",
   "id": "90eaeaf0a8887794",
   "outputs": [
    {
     "data": {
      "text/plain": [
       "torch.float32"
      ]
     },
     "execution_count": 45,
     "metadata": {},
     "output_type": "execute_result"
    }
   ],
   "execution_count": 45
  },
  {
   "metadata": {
    "ExecuteTime": {
     "end_time": "2025-01-13T04:46:53.944625Z",
     "start_time": "2025-01-13T04:46:53.929618Z"
    }
   },
   "cell_type": "code",
   "source": "random_tensor.dtype",
   "id": "5b2e78dfcc04841d",
   "outputs": [
    {
     "data": {
      "text/plain": [
       "torch.float32"
      ]
     },
     "execution_count": 46,
     "metadata": {},
     "output_type": "execute_result"
    }
   ],
   "execution_count": 46
  },
  {
   "metadata": {
    "ExecuteTime": {
     "end_time": "2025-01-13T04:49:49.175259Z",
     "start_time": "2025-01-13T04:49:49.161674Z"
    }
   },
   "cell_type": "code",
   "source": [
    "# Creating a range of tensors\n",
    "# Torch arange: https://pytorch.org/docs/stable/generated/torch.arange.html\n",
    "one_to_ten = torch.arange(start=1, end=11, step=1)\n",
    "one_to_ten"
   ],
   "id": "3efbdd50736b4322",
   "outputs": [
    {
     "data": {
      "text/plain": [
       "tensor([ 1,  2,  3,  4,  5,  6,  7,  8,  9, 10])"
      ]
     },
     "execution_count": 50,
     "metadata": {},
     "output_type": "execute_result"
    }
   ],
   "execution_count": 50
  },
  {
   "metadata": {
    "ExecuteTime": {
     "end_time": "2025-01-13T04:51:00.337008Z",
     "start_time": "2025-01-13T04:51:00.324001Z"
    }
   },
   "cell_type": "code",
   "source": [
    "# Creating tensors-like\n",
    "ten_zeros = torch.zeros_like(input=one_to_ten)\n",
    "ten_zeros"
   ],
   "id": "b785763c89350d5c",
   "outputs": [
    {
     "data": {
      "text/plain": [
       "tensor([0, 0, 0, 0, 0, 0, 0, 0, 0, 0])"
      ]
     },
     "execution_count": 52,
     "metadata": {},
     "output_type": "execute_result"
    }
   ],
   "execution_count": 52
  },
  {
   "metadata": {
    "ExecuteTime": {
     "end_time": "2025-01-13T04:53:49.432773Z",
     "start_time": "2025-01-13T04:53:49.418769Z"
    }
   },
   "cell_type": "code",
   "source": [
    "# Will there be ones_like?\n",
    "ten_ones = torch.ones_like(one_to_ten)\n",
    "ten_ones"
   ],
   "id": "4915812da332ae4b",
   "outputs": [
    {
     "data": {
      "text/plain": [
       "tensor([1, 1, 1, 1, 1, 1, 1, 1, 1, 1])"
      ]
     },
     "execution_count": 53,
     "metadata": {},
     "output_type": "execute_result"
    }
   ],
   "execution_count": 53
  },
  {
   "metadata": {
    "ExecuteTime": {
     "end_time": "2025-01-13T05:01:07.070623Z",
     "start_time": "2025-01-13T05:01:07.065115Z"
    }
   },
   "cell_type": "code",
   "source": [
    "# Float 32 tensor\n",
    "# datatype: the datatype of the tensor (e.g. float32 or float16)\n",
    "# device: what device is your tensor is on\n",
    "# requires_grad: whether or not to track gradients with this tensors operation\n",
    "float_32_tensor = torch.tensor([3.0, 6.0, 9.0], dtype=None, device=None, requires_grad=False)\n",
    "float_32_tensor"
   ],
   "id": "86bc0692085b61b0",
   "outputs": [
    {
     "data": {
      "text/plain": [
       "tensor([3., 6., 9.])"
      ]
     },
     "execution_count": 59,
     "metadata": {},
     "output_type": "execute_result"
    }
   ],
   "execution_count": 59
  },
  {
   "metadata": {
    "ExecuteTime": {
     "end_time": "2025-01-13T05:05:27.321020Z",
     "start_time": "2025-01-13T05:05:27.308021Z"
    }
   },
   "cell_type": "code",
   "source": [
    "float_16_tensor = float_32_tensor.type(torch.float16)\n",
    "float_16_tensor"
   ],
   "id": "7099a3700a6e56b6",
   "outputs": [
    {
     "data": {
      "text/plain": [
       "tensor([3., 6., 9.], dtype=torch.float16)"
      ]
     },
     "execution_count": 61,
     "metadata": {},
     "output_type": "execute_result"
    }
   ],
   "execution_count": 61
  },
  {
   "metadata": {
    "ExecuteTime": {
     "end_time": "2025-01-13T05:07:38.195221Z",
     "start_time": "2025-01-13T05:07:38.180716Z"
    }
   },
   "cell_type": "code",
   "source": [
    "int_32_tensor = torch.tensor([3, 6, 9], dtype=torch.int32)\n",
    "int_32_tensor"
   ],
   "id": "dc6d302f67c60eb6",
   "outputs": [
    {
     "data": {
      "text/plain": [
       "tensor([3, 6, 9], dtype=torch.int32)"
      ]
     },
     "execution_count": 62,
     "metadata": {},
     "output_type": "execute_result"
    }
   ],
   "execution_count": 62
  },
  {
   "metadata": {
    "ExecuteTime": {
     "end_time": "2025-01-13T05:07:46.689693Z",
     "start_time": "2025-01-13T05:07:46.675681Z"
    }
   },
   "cell_type": "code",
   "source": [
    "# Check the data types\n",
    "float_32_tensor * int_32_tensor"
   ],
   "id": "800eca7b11a72f65",
   "outputs": [
    {
     "data": {
      "text/plain": [
       "tensor([ 9., 36., 81.])"
      ]
     },
     "execution_count": 63,
     "metadata": {},
     "output_type": "execute_result"
    }
   ],
   "execution_count": 63
  },
  {
   "metadata": {
    "ExecuteTime": {
     "end_time": "2025-01-13T05:10:55.800060Z",
     "start_time": "2025-01-13T05:10:55.786532Z"
    }
   },
   "cell_type": "code",
   "source": [
    "# Getting information from tensors\n",
    "# 1. Tensors not right datatype - can use tensor.dtype\n",
    "# 2. Tensors not right shape - can use tensor.shape\n",
    "# 3. Tensors not on the right device - can use tensor.device"
   ],
   "id": "ea5988d68c1f618d",
   "outputs": [],
   "execution_count": 64
  },
  {
   "metadata": {
    "ExecuteTime": {
     "end_time": "2025-01-13T05:14:24.160277Z",
     "start_time": "2025-01-13T05:14:24.156280Z"
    }
   },
   "cell_type": "code",
   "source": [
    "# Create a tensor\n",
    "some_tensor = torch.rand(5, 7, dtype=torch.float64)"
   ],
   "id": "de45d4519383188c",
   "outputs": [],
   "execution_count": 70
  },
  {
   "metadata": {
    "ExecuteTime": {
     "end_time": "2025-01-13T05:14:25.048634Z",
     "start_time": "2025-01-13T05:14:25.043635Z"
    }
   },
   "cell_type": "code",
   "source": [
    "# Find out details about some tensor\n",
    "print(some_tensor)\n",
    "print(f\"Datatype of tensor: {some_tensor.dtype}\")\n",
    "print(f\"Shape of tensor: {some_tensor.shape}\") # .size is a function, .shape is an attribute\n",
    "print(f\"Device tensor is on: {some_tensor.device}\")"
   ],
   "id": "865cdbcfe6730bc3",
   "outputs": [
    {
     "name": "stdout",
     "output_type": "stream",
     "text": [
      "tensor([[0.3388, 0.1346, 0.8042, 0.0343, 0.3684, 0.6713, 0.8391],\n",
      "        [0.0917, 0.1986, 0.1583, 0.3875, 0.8975, 0.9349, 0.9814],\n",
      "        [0.9996, 0.2134, 0.4213, 0.9390, 0.2977, 0.6272, 0.7558],\n",
      "        [0.7124, 0.2887, 0.7410, 0.4768, 0.9295, 0.4144, 0.2718],\n",
      "        [0.1642, 0.2163, 0.5426, 0.7112, 0.1655, 0.2471, 0.5205]],\n",
      "       dtype=torch.float64)\n",
      "Datatype of tensor: torch.float64\n",
      "Shape of tensor: torch.Size([5, 7])\n",
      "Device tensor is on: cpu\n"
     ]
    }
   ],
   "execution_count": 71
  },
  {
   "metadata": {
    "ExecuteTime": {
     "end_time": "2025-01-13T05:16:35.489609Z",
     "start_time": "2025-01-13T05:16:35.476133Z"
    }
   },
   "cell_type": "code",
   "source": [
    "# Manipulating tensors (tensor operations)\n",
    "# Operations: Addition, Subtraction, Multiplication (element-wise), Division, Matrix Multiplication"
   ],
   "id": "49655e0291cb5391",
   "outputs": [],
   "execution_count": 72
  },
  {
   "metadata": {
    "ExecuteTime": {
     "end_time": "2025-01-13T05:17:04.465573Z",
     "start_time": "2025-01-13T05:17:04.451063Z"
    }
   },
   "cell_type": "code",
   "source": [
    "# Create a tensor and add 10 to it\n",
    "tensor = torch.tensor([1, 2, 3])\n",
    "tensor + 10"
   ],
   "id": "b866f9f7fa111000",
   "outputs": [
    {
     "data": {
      "text/plain": [
       "tensor([11, 12, 13])"
      ]
     },
     "execution_count": 73,
     "metadata": {},
     "output_type": "execute_result"
    }
   ],
   "execution_count": 73
  },
  {
   "metadata": {
    "ExecuteTime": {
     "end_time": "2025-01-13T05:17:28.981137Z",
     "start_time": "2025-01-13T05:17:28.966622Z"
    }
   },
   "cell_type": "code",
   "source": [
    "# Multiply tensor by 10\n",
    "tensor * 10"
   ],
   "id": "f067757a39f39e37",
   "outputs": [
    {
     "data": {
      "text/plain": [
       "tensor([10, 20, 30])"
      ]
     },
     "execution_count": 74,
     "metadata": {},
     "output_type": "execute_result"
    }
   ],
   "execution_count": 74
  },
  {
   "metadata": {
    "ExecuteTime": {
     "end_time": "2025-01-13T05:18:29.743159Z",
     "start_time": "2025-01-13T05:18:29.729481Z"
    }
   },
   "cell_type": "code",
   "source": [
    "# Subtract 10 from tensor\n",
    "tensor - 10"
   ],
   "id": "f3f5fe4ec5c1f23e",
   "outputs": [
    {
     "data": {
      "text/plain": [
       "tensor([-9, -8, -7])"
      ]
     },
     "execution_count": 75,
     "metadata": {},
     "output_type": "execute_result"
    }
   ],
   "execution_count": 75
  },
  {
   "metadata": {
    "ExecuteTime": {
     "end_time": "2025-01-13T05:20:01.510439Z",
     "start_time": "2025-01-13T05:20:01.497926Z"
    }
   },
   "cell_type": "code",
   "source": [
    "#Try out PyTorch in-built functions\n",
    "torch.mul(tensor, 10)"
   ],
   "id": "f78bae7970671ef1",
   "outputs": [
    {
     "data": {
      "text/plain": [
       "tensor([10, 20, 30])"
      ]
     },
     "execution_count": 78,
     "metadata": {},
     "output_type": "execute_result"
    }
   ],
   "execution_count": 78
  },
  {
   "metadata": {
    "ExecuteTime": {
     "end_time": "2025-01-13T05:20:05.491630Z",
     "start_time": "2025-01-13T05:20:05.479121Z"
    }
   },
   "cell_type": "code",
   "source": "torch.add(tensor, 10)",
   "id": "b23f1090c215b4eb",
   "outputs": [
    {
     "data": {
      "text/plain": [
       "tensor([11, 12, 13])"
      ]
     },
     "execution_count": 80,
     "metadata": {},
     "output_type": "execute_result"
    }
   ],
   "execution_count": 80
  },
  {
   "metadata": {
    "ExecuteTime": {
     "end_time": "2025-01-13T08:43:03.536840Z",
     "start_time": "2025-01-13T08:43:03.522841Z"
    }
   },
   "cell_type": "code",
   "source": "#",
   "id": "c771fda4deb48c52",
   "outputs": [],
   "execution_count": 81
  },
  {
   "metadata": {
    "ExecuteTime": {
     "end_time": "2025-01-13T08:43:29.484428Z",
     "start_time": "2025-01-13T08:43:29.469429Z"
    }
   },
   "cell_type": "code",
   "source": [
    "# Element wise multiplication\n",
    "print(f\"Equals: {tensor * tensor}\")"
   ],
   "id": "bce98baae6fa04a2",
   "outputs": [
    {
     "name": "stdout",
     "output_type": "stream",
     "text": [
      "Equals: tensor([1, 4, 9])\n"
     ]
    }
   ],
   "execution_count": 82
  },
  {
   "metadata": {
    "ExecuteTime": {
     "end_time": "2025-01-13T08:43:49.521908Z",
     "start_time": "2025-01-13T08:43:49.507312Z"
    }
   },
   "cell_type": "code",
   "source": [
    "# Matrix multiplication\n",
    "torch.matmul(tensor, tensor)"
   ],
   "id": "a42be00ddc46f59e",
   "outputs": [
    {
     "data": {
      "text/plain": [
       "tensor(14)"
      ]
     },
     "execution_count": 83,
     "metadata": {},
     "output_type": "execute_result"
    }
   ],
   "execution_count": 83
  },
  {
   "metadata": {
    "ExecuteTime": {
     "end_time": "2025-01-13T08:46:30.154970Z",
     "start_time": "2025-01-13T08:46:30.140970Z"
    }
   },
   "cell_type": "code",
   "source": [
    "%%time\n",
    "value = 0\n",
    "for i in range(len(tensor)):\n",
    "    value += tensor[i] * tensor[i]\n",
    "print(value)"
   ],
   "id": "c3ee3704f9022d82",
   "outputs": [
    {
     "name": "stdout",
     "output_type": "stream",
     "text": [
      "tensor(14)\n",
      "CPU times: total: 0 ns\n",
      "Wall time: 999 µs\n"
     ]
    }
   ],
   "execution_count": 84
  },
  {
   "metadata": {
    "ExecuteTime": {
     "end_time": "2025-01-13T08:46:48.175459Z",
     "start_time": "2025-01-13T08:46:48.160954Z"
    }
   },
   "cell_type": "code",
   "source": [
    "%%time\n",
    "torch.matmul(tensor, tensor)"
   ],
   "id": "654c5a2afc845d17",
   "outputs": [
    {
     "name": "stdout",
     "output_type": "stream",
     "text": [
      "CPU times: total: 0 ns\n",
      "Wall time: 0 ns\n"
     ]
    },
    {
     "data": {
      "text/plain": [
       "tensor(14)"
      ]
     },
     "execution_count": 85,
     "metadata": {},
     "output_type": "execute_result"
    }
   ],
   "execution_count": 85
  },
  {
   "metadata": {
    "ExecuteTime": {
     "end_time": "2025-01-13T08:59:32.739458Z",
     "start_time": "2025-01-13T08:59:32.730458Z"
    }
   },
   "cell_type": "code",
   "source": [
    "# Shapes for matrix multiplication\n",
    "tensor_A = torch.tensor([[1, 2],\n",
    "                         [3, 4],\n",
    "                         [5, 6]])\n",
    "tensor_B = torch.tensor([[7, 10],\n",
    "                         [8, 11],\n",
    "                         [9, 12]])\n",
    "# torch.mm is the same as torch.matmul (alias)\n",
    "# torch.mm(tensor_A, tensor_B) << Shape error\n",
    "\n",
    "# We can manipulate the shape of one of out tensors using transpose"
   ],
   "id": "4a4d517ad7036b04",
   "outputs": [],
   "execution_count": 93
  },
  {
   "metadata": {
    "ExecuteTime": {
     "end_time": "2025-01-13T08:59:34.365582Z",
     "start_time": "2025-01-13T08:59:34.360582Z"
    }
   },
   "cell_type": "code",
   "source": "tensor_B, tensor_B.shape",
   "id": "fc6e33a0362e8443",
   "outputs": [
    {
     "data": {
      "text/plain": [
       "(tensor([[ 7, 10],\n",
       "         [ 8, 11],\n",
       "         [ 9, 12]]),\n",
       " torch.Size([3, 2]))"
      ]
     },
     "execution_count": 94,
     "metadata": {},
     "output_type": "execute_result"
    }
   ],
   "execution_count": 94
  },
  {
   "metadata": {
    "ExecuteTime": {
     "end_time": "2025-01-13T08:59:35.177395Z",
     "start_time": "2025-01-13T08:59:35.173396Z"
    }
   },
   "cell_type": "code",
   "source": "tensor_B.T, tensor_B.T.shape",
   "id": "868713f2a122abec",
   "outputs": [
    {
     "data": {
      "text/plain": [
       "(tensor([[ 7,  8,  9],\n",
       "         [10, 11, 12]]),\n",
       " torch.Size([2, 3]))"
      ]
     },
     "execution_count": 95,
     "metadata": {},
     "output_type": "execute_result"
    }
   ],
   "execution_count": 95
  },
  {
   "metadata": {
    "ExecuteTime": {
     "end_time": "2025-01-13T08:59:36.266391Z",
     "start_time": "2025-01-13T08:59:36.257392Z"
    }
   },
   "cell_type": "code",
   "source": [
    "# The matrix multiplication operation works when tensor_B is transposed\n",
    "print(f\"Original shapes: tensor_A = {tensor_A.shape}, tensor_B = {tensor_B.shape}\")\n",
    "print(f\"Original shapes: tensor_A = {tensor_A.shape} (same shape as above), tensor_B.T = {tensor_B.T.shape}\")\n",
    "print(f\"Multiplying: {tensor_A.shape} @ {tensor_B.T.shape} <- inner dimensions must match\")\n",
    "print(\"Output:\\n\")\n",
    "output = torch.mm(tensor_A, tensor_B.T)\n",
    "print(output)\n",
    "print(f\"\\nOutput shape: {output.shape}\")"
   ],
   "id": "81628447a4c67606",
   "outputs": [
    {
     "name": "stdout",
     "output_type": "stream",
     "text": [
      "Original shapes: tensor_A = torch.Size([3, 2]), tensor_B = torch.Size([3, 2])\n",
      "Original shapes: tensor_A = torch.Size([3, 2]) (same shape as above), tensor_B.T = torch.Size([2, 3])\n",
      "Multiplying: torch.Size([3, 2]) @ torch.Size([2, 3]) <- inner dimensions must match\n",
      "Output:\n",
      "\n",
      "tensor([[ 27,  30,  33],\n",
      "        [ 61,  68,  75],\n",
      "        [ 95, 106, 117]])\n",
      "\n",
      "Output shape: torch.Size([3, 3])\n"
     ]
    }
   ],
   "execution_count": 96
  },
  {
   "metadata": {
    "ExecuteTime": {
     "end_time": "2025-01-14T04:36:51.761170Z",
     "start_time": "2025-01-14T04:36:51.744387Z"
    }
   },
   "cell_type": "code",
   "source": [
    "# Create a tensor\n",
    "x = torch.arange(0, 100, 10)\n",
    "x"
   ],
   "id": "c7affbf20e478c73",
   "outputs": [
    {
     "data": {
      "text/plain": [
       "tensor([ 0, 10, 20, 30, 40, 50, 60, 70, 80, 90])"
      ]
     },
     "execution_count": 3,
     "metadata": {},
     "output_type": "execute_result"
    }
   ],
   "execution_count": 3
  },
  {
   "metadata": {
    "ExecuteTime": {
     "end_time": "2025-01-14T04:37:24.130163Z",
     "start_time": "2025-01-14T04:37:24.115161Z"
    }
   },
   "cell_type": "code",
   "source": [
    "# Find the min\n",
    "torch.min(x), x.min()"
   ],
   "id": "4ede10c12a129a19",
   "outputs": [
    {
     "data": {
      "text/plain": [
       "(tensor(0), tensor(0))"
      ]
     },
     "execution_count": 4,
     "metadata": {},
     "output_type": "execute_result"
    }
   ],
   "execution_count": 4
  },
  {
   "metadata": {
    "ExecuteTime": {
     "end_time": "2025-01-14T04:37:39.025763Z",
     "start_time": "2025-01-14T04:37:39.012179Z"
    }
   },
   "cell_type": "code",
   "source": [
    "# Find the max\n",
    "torch.max(x), x.max()"
   ],
   "id": "b19077fa00e5d419",
   "outputs": [
    {
     "data": {
      "text/plain": [
       "(tensor(90), tensor(90))"
      ]
     },
     "execution_count": 5,
     "metadata": {},
     "output_type": "execute_result"
    }
   ],
   "execution_count": 5
  },
  {
   "metadata": {
    "ExecuteTime": {
     "end_time": "2025-01-14T04:40:16.726887Z",
     "start_time": "2025-01-14T04:40:16.713378Z"
    }
   },
   "cell_type": "code",
   "source": [
    "# Find the mean\n",
    "torch.mean(x.type(torch.float32)), x.type(torch.float32).mean() # need floating point or complex dtype"
   ],
   "id": "aff6a6717fd98b81",
   "outputs": [
    {
     "data": {
      "text/plain": [
       "(tensor(45.), tensor(45.))"
      ]
     },
     "execution_count": 7,
     "metadata": {},
     "output_type": "execute_result"
    }
   ],
   "execution_count": 7
  },
  {
   "metadata": {
    "ExecuteTime": {
     "end_time": "2025-01-14T04:40:44.120423Z",
     "start_time": "2025-01-14T04:40:44.105632Z"
    }
   },
   "cell_type": "code",
   "source": [
    "# Find the sum\n",
    "torch.sum(x), x.sum()"
   ],
   "id": "1af9c668e5cb5bed",
   "outputs": [
    {
     "data": {
      "text/plain": [
       "(tensor(450), tensor(450))"
      ]
     },
     "execution_count": 8,
     "metadata": {},
     "output_type": "execute_result"
    }
   ],
   "execution_count": 8
  },
  {
   "metadata": {
    "ExecuteTime": {
     "end_time": "2025-01-14T04:42:16.205866Z",
     "start_time": "2025-01-14T04:42:16.191864Z"
    }
   },
   "cell_type": "code",
   "source": [
    "# Find the positional min and max\n",
    "x.argmin(), x.argmax()"
   ],
   "id": "49cb42295f5b9b2f",
   "outputs": [
    {
     "data": {
      "text/plain": [
       "(tensor(0), tensor(9))"
      ]
     },
     "execution_count": 9,
     "metadata": {},
     "output_type": "execute_result"
    }
   ],
   "execution_count": 9
  },
  {
   "metadata": {
    "ExecuteTime": {
     "end_time": "2025-01-14T04:47:35.852167Z",
     "start_time": "2025-01-14T04:47:35.837661Z"
    }
   },
   "cell_type": "code",
   "source": [
    "# Reshaping - reshapes an input tensor to a defined shape\n",
    "# View - return a view of an input tensor of certain shape but keep the same memory as the original tensor\n",
    "# Stacking - combine multiple tensors on top of each other (vstack) or side by side (hstack)\n",
    "# Squeez - remove all '1' dimensions froom a tensor\n",
    "# Unsqueeze - add a '1' dimension to a target tensor\n",
    "# Permute - return a view of the input with dimensions permuted in a certain way"
   ],
   "id": "a5afe6d2f8873aa3",
   "outputs": [],
   "execution_count": 10
  },
  {
   "metadata": {
    "ExecuteTime": {
     "end_time": "2025-01-14T04:50:26.961603Z",
     "start_time": "2025-01-14T04:50:26.955095Z"
    }
   },
   "cell_type": "code",
   "source": [
    "# Create a tensor\n",
    "x = torch.arange(1., 10.)\n",
    "x, x.shape"
   ],
   "id": "8c844b4e4ded3cb7",
   "outputs": [
    {
     "data": {
      "text/plain": [
       "(tensor([1., 2., 3., 4., 5., 6., 7., 8., 9.]), torch.Size([9]))"
      ]
     },
     "execution_count": 19,
     "metadata": {},
     "output_type": "execute_result"
    }
   ],
   "execution_count": 19
  },
  {
   "metadata": {
    "ExecuteTime": {
     "end_time": "2025-01-14T04:50:27.565092Z",
     "start_time": "2025-01-14T04:50:27.559580Z"
    }
   },
   "cell_type": "code",
   "source": [
    "# Add an extra dimension\n",
    "x_reshaped = x.reshape(1, 9)\n",
    "x_reshaped, x_reshaped.shape"
   ],
   "id": "60aa0a53a1fc8ea8",
   "outputs": [
    {
     "data": {
      "text/plain": [
       "(tensor([[1., 2., 3., 4., 5., 6., 7., 8., 9.]]), torch.Size([1, 9]))"
      ]
     },
     "execution_count": 20,
     "metadata": {},
     "output_type": "execute_result"
    }
   ],
   "execution_count": 20
  },
  {
   "metadata": {
    "ExecuteTime": {
     "end_time": "2025-01-14T04:51:07.014745Z",
     "start_time": "2025-01-14T04:51:07.000640Z"
    }
   },
   "cell_type": "code",
   "source": [
    "# Change the view\n",
    "z = x.view(1, 9) # view shares the same memory with the original - changing z changes x\n",
    "z, z.shape"
   ],
   "id": "84dddd71d377dc4b",
   "outputs": [
    {
     "data": {
      "text/plain": [
       "(tensor([[1., 2., 3., 4., 5., 6., 7., 8., 9.]]), torch.Size([1, 9]))"
      ]
     },
     "execution_count": 21,
     "metadata": {},
     "output_type": "execute_result"
    }
   ],
   "execution_count": 21
  },
  {
   "metadata": {
    "ExecuteTime": {
     "end_time": "2025-01-14T04:52:10.022284Z",
     "start_time": "2025-01-14T04:52:10.008291Z"
    }
   },
   "cell_type": "code",
   "source": [
    "z[:, 0] = 5\n",
    "z, x"
   ],
   "id": "f9a165546240882e",
   "outputs": [
    {
     "data": {
      "text/plain": [
       "(tensor([[5., 2., 3., 4., 5., 6., 7., 8., 9.]]),\n",
       " tensor([5., 2., 3., 4., 5., 6., 7., 8., 9.]))"
      ]
     },
     "execution_count": 22,
     "metadata": {},
     "output_type": "execute_result"
    }
   ],
   "execution_count": 22
  },
  {
   "metadata": {
    "ExecuteTime": {
     "end_time": "2025-01-14T04:53:54.524846Z",
     "start_time": "2025-01-14T04:53:54.513844Z"
    }
   },
   "cell_type": "code",
   "source": [
    "# Stack tensors on top of each other\n",
    "x_stacked = torch.stack([x, x, x, x], dim = 1)\n",
    "# dim for the direction of stacking, dim=0 for vstack, dim=1 for hstack\n",
    "x_stacked"
   ],
   "id": "23c7f3fec0c89bda",
   "outputs": [
    {
     "data": {
      "text/plain": [
       "tensor([[5., 5., 5., 5.],\n",
       "        [2., 2., 2., 2.],\n",
       "        [3., 3., 3., 3.],\n",
       "        [4., 4., 4., 4.],\n",
       "        [5., 5., 5., 5.],\n",
       "        [6., 6., 6., 6.],\n",
       "        [7., 7., 7., 7.],\n",
       "        [8., 8., 8., 8.],\n",
       "        [9., 9., 9., 9.]])"
      ]
     },
     "execution_count": 28,
     "metadata": {},
     "output_type": "execute_result"
    }
   ],
   "execution_count": 28
  },
  {
   "metadata": {
    "ExecuteTime": {
     "end_time": "2025-01-14T05:00:51.667008Z",
     "start_time": "2025-01-14T05:00:51.654847Z"
    }
   },
   "cell_type": "code",
   "source": [
    "# Squeeze removes all single dimensions from a target tensor (e.g. 1 1 9 -> 9)\n",
    "print(f\"Previous tensor: {x_reshaped}\")\n",
    "print(f\"Previous shape: {x_reshaped.shape}\")\n",
    "\n",
    "# Remove extra dimensions from x_reshaped\n",
    "x_squeezed = x_reshaped.squeeze()\n",
    "print(f\"\\nNew tensor: {x_squeezed}\")\n",
    "print(f\"New shape: {x_squeezed.shape}\")"
   ],
   "id": "221a93fe445530ab",
   "outputs": [
    {
     "name": "stdout",
     "output_type": "stream",
     "text": [
      "Previous tensor: tensor([[5., 2., 3., 4., 5., 6., 7., 8., 9.]])\n",
      "Previous shape: torch.Size([1, 9])\n",
      "\n",
      "New tensor: tensor([5., 2., 3., 4., 5., 6., 7., 8., 9.])\n",
      "New shape: torch.Size([9])\n"
     ]
    }
   ],
   "execution_count": 33
  },
  {
   "metadata": {
    "ExecuteTime": {
     "end_time": "2025-01-14T05:03:29.271172Z",
     "start_time": "2025-01-14T05:03:29.266659Z"
    }
   },
   "cell_type": "code",
   "source": [
    "# Unsqueeze adds a single dimension to a target tensor at a specific dim\n",
    "print(f\"Previous tensor: {x_squeezed}\")\n",
    "print(f\"Previous shape: {x_squeezed.shape}\")\n",
    "\n",
    "# Add an extra dimension with unsqueeze\n",
    "x_unsqueezed = x_squeezed.unsqueeze(dim=1) # dim for the position of added dimension\n",
    "print(f\"\\nNew tensor: {x_unsqueezed}\")\n",
    "print(f\"New shape: {x_unsqueezed.shape}\")"
   ],
   "id": "209044c85f53e175",
   "outputs": [
    {
     "name": "stdout",
     "output_type": "stream",
     "text": [
      "Previous tensor: tensor([5., 2., 3., 4., 5., 6., 7., 8., 9.])\n",
      "Previous shape: torch.Size([9])\n",
      "\n",
      "New tensor: tensor([[5.],\n",
      "        [2.],\n",
      "        [3.],\n",
      "        [4.],\n",
      "        [5.],\n",
      "        [6.],\n",
      "        [7.],\n",
      "        [8.],\n",
      "        [9.]])\n",
      "New shape: torch.Size([9, 1])\n"
     ]
    }
   ],
   "execution_count": 35
  },
  {
   "metadata": {
    "ExecuteTime": {
     "end_time": "2025-01-14T05:12:47.317805Z",
     "start_time": "2025-01-14T05:12:47.312805Z"
    }
   },
   "cell_type": "code",
   "source": [
    "# Permute rearranges the dimensions of a target tensor in a specified order\n",
    "x_original = torch.rand(size=(224, 224, 3)) # [height, width, color_channels]\n",
    "\n",
    "# Permute the original tensor to rearrange the axis (or dim) order\n",
    "x_permuted = x_original.permute(2, 0, 1) # shifts axis 0->1, 1->2, 2->0\n",
    "\n",
    "print(f\"Previous shape: {x_original.shape}\")\n",
    "print(f\"New shape: {x_permuted.shape}\") # [color_channels, height, width]"
   ],
   "id": "b1316482662bc899",
   "outputs": [
    {
     "name": "stdout",
     "output_type": "stream",
     "text": [
      "Previous shape: torch.Size([224, 224, 3])\n",
      "New shape: torch.Size([3, 224, 224])\n"
     ]
    }
   ],
   "execution_count": 58
  },
  {
   "metadata": {
    "ExecuteTime": {
     "end_time": "2025-01-14T05:16:16.920288Z",
     "start_time": "2025-01-14T05:16:16.901283Z"
    }
   },
   "cell_type": "code",
   "source": [
    "# Permute uses view, which shares memory between the permuted and the original\n",
    "x_original[1, 0, 0] = 98723497\n",
    "print(x_original[1, 0, 0])\n",
    "x_permuted = x_original.permute(2, 0, 1)\n",
    "print(x_permuted[1, 0, 0])\n",
    "print(x_permuted[0, 1, 0])"
   ],
   "id": "3068187fe24e9411",
   "outputs": [
    {
     "name": "stdout",
     "output_type": "stream",
     "text": [
      "tensor(98723496.)\n",
      "tensor(0.1904)\n",
      "tensor(98723496.)\n"
     ]
    }
   ],
   "execution_count": 60
  },
  {
   "metadata": {
    "ExecuteTime": {
     "end_time": "2025-01-14T06:26:21.381649Z",
     "start_time": "2025-01-14T06:26:21.367587Z"
    }
   },
   "cell_type": "code",
   "source": [
    "# Create a tensor\n",
    "x = torch.arange(1, 10).reshape(1, 3, 3)\n",
    "x, x.shape"
   ],
   "id": "ac829cd4dd70e894",
   "outputs": [
    {
     "data": {
      "text/plain": [
       "(tensor([[[1, 2, 3],\n",
       "          [4, 5, 6],\n",
       "          [7, 8, 9]]]),\n",
       " torch.Size([1, 3, 3]))"
      ]
     },
     "execution_count": 61,
     "metadata": {},
     "output_type": "execute_result"
    }
   ],
   "execution_count": 61
  },
  {
   "metadata": {
    "ExecuteTime": {
     "end_time": "2025-01-14T06:27:12.912954Z",
     "start_time": "2025-01-14T06:27:12.898651Z"
    }
   },
   "cell_type": "code",
   "source": [
    "# Let's index on our new tensor\n",
    "x[0]"
   ],
   "id": "7fa8ab724fe01b6",
   "outputs": [
    {
     "data": {
      "text/plain": [
       "tensor([[1, 2, 3],\n",
       "        [4, 5, 6],\n",
       "        [7, 8, 9]])"
      ]
     },
     "execution_count": 62,
     "metadata": {},
     "output_type": "execute_result"
    }
   ],
   "execution_count": 62
  },
  {
   "metadata": {
    "ExecuteTime": {
     "end_time": "2025-01-14T06:27:32.160368Z",
     "start_time": "2025-01-14T06:27:32.146143Z"
    }
   },
   "cell_type": "code",
   "source": [
    "# Let's index on the middle bracket (dim=1)\n",
    "x[0][0]"
   ],
   "id": "ad85761177de7a2c",
   "outputs": [
    {
     "data": {
      "text/plain": [
       "tensor([1, 2, 3])"
      ]
     },
     "execution_count": 63,
     "metadata": {},
     "output_type": "execute_result"
    }
   ],
   "execution_count": 63
  },
  {
   "metadata": {
    "ExecuteTime": {
     "end_time": "2025-01-14T06:27:59.462472Z",
     "start_time": "2025-01-14T06:27:59.447966Z"
    }
   },
   "cell_type": "code",
   "source": [
    "# Let's index on the most inner bracket (dim=2)\n",
    "x[0][0][0]"
   ],
   "id": "86f944e02a37ef0e",
   "outputs": [
    {
     "data": {
      "text/plain": [
       "tensor(1)"
      ]
     },
     "execution_count": 64,
     "metadata": {},
     "output_type": "execute_result"
    }
   ],
   "execution_count": 64
  },
  {
   "metadata": {
    "ExecuteTime": {
     "end_time": "2025-01-14T06:29:36.685929Z",
     "start_time": "2025-01-14T06:29:36.671880Z"
    }
   },
   "cell_type": "code",
   "source": [
    "# You can also use \":\" to select \"all\" of a targhet dimension\n",
    "x[:, 0]"
   ],
   "id": "8e5be23d277562d8",
   "outputs": [
    {
     "data": {
      "text/plain": [
       "tensor([[1, 2, 3]])"
      ]
     },
     "execution_count": 65,
     "metadata": {},
     "output_type": "execute_result"
    }
   ],
   "execution_count": 65
  },
  {
   "metadata": {
    "ExecuteTime": {
     "end_time": "2025-01-14T06:30:08.687274Z",
     "start_time": "2025-01-14T06:30:08.672274Z"
    }
   },
   "cell_type": "code",
   "source": [
    "# Get all values of 0th and 1st dimensions but only index 1 of 2nd dimension\n",
    "x[:, :, 1]"
   ],
   "id": "eb99f3258b33ddfe",
   "outputs": [
    {
     "data": {
      "text/plain": [
       "tensor([[2, 5, 8]])"
      ]
     },
     "execution_count": 66,
     "metadata": {},
     "output_type": "execute_result"
    }
   ],
   "execution_count": 66
  },
  {
   "metadata": {
    "ExecuteTime": {
     "end_time": "2025-01-14T06:30:58.768612Z",
     "start_time": "2025-01-14T06:30:58.754602Z"
    }
   },
   "cell_type": "code",
   "source": [
    "# Get all values of the 0th dimension but only the 1st index value of 1st and 2nd dimension\n",
    "x[:, 1, 1]"
   ],
   "id": "5b533fc722d39d4f",
   "outputs": [
    {
     "data": {
      "text/plain": [
       "tensor([5])"
      ]
     },
     "execution_count": 67,
     "metadata": {},
     "output_type": "execute_result"
    }
   ],
   "execution_count": 67
  },
  {
   "metadata": {
    "ExecuteTime": {
     "end_time": "2025-01-14T06:32:07.779088Z",
     "start_time": "2025-01-14T06:32:07.764586Z"
    }
   },
   "cell_type": "code",
   "source": [
    "# Get index 0 of 0th and 1st dimension and all values of 2nd dimension\n",
    "x[0, 0, :]"
   ],
   "id": "2ded2e7651035978",
   "outputs": [
    {
     "data": {
      "text/plain": [
       "tensor([1, 2, 3])"
      ]
     },
     "execution_count": 68,
     "metadata": {},
     "output_type": "execute_result"
    }
   ],
   "execution_count": 68
  },
  {
   "metadata": {
    "ExecuteTime": {
     "end_time": "2025-01-14T06:34:33.669744Z",
     "start_time": "2025-01-14T06:34:33.662580Z"
    }
   },
   "cell_type": "code",
   "source": [
    "# Index on x to return 9\n",
    "print(x[0, 2, 2])\n",
    "\n",
    "# Index on x to return 3, 6, 9\n",
    "print(x[0, :, 2])"
   ],
   "id": "ef94cbebbed82551",
   "outputs": [
    {
     "name": "stdout",
     "output_type": "stream",
     "text": [
      "tensor(9)\n",
      "tensor([3, 6, 9])\n"
     ]
    }
   ],
   "execution_count": 73
  },
  {
   "metadata": {
    "ExecuteTime": {
     "end_time": "2025-01-14T06:39:53.495739Z",
     "start_time": "2025-01-14T06:39:53.488736Z"
    }
   },
   "cell_type": "code",
   "source": [
    "# NumPy array to tensor: torch.from_numpy, .numpy()\n",
    "# https://pytorch.org/tutorials/beginner/examples_tensor/polynomial_numpy.html\n",
    "import torch\n",
    "import numpy as np\n",
    "\n",
    "array = np.arange(1.0, 8.0)\n",
    "tensor = torch.from_numpy(array) # NumPy default dtype is float64, reflected by PyTorch when used\n",
    "# tensor = torch.from_numpy(array).type(torch.float32) << this will change dtype\n",
    "array, tensor"
   ],
   "id": "4ac29807c21f6fb6",
   "outputs": [
    {
     "data": {
      "text/plain": [
       "(array([1., 2., 3., 4., 5., 6., 7.]), tensor([1., 2., 3., 4., 5., 6., 7.]))"
      ]
     },
     "execution_count": 77,
     "metadata": {},
     "output_type": "execute_result"
    }
   ],
   "execution_count": 77
  },
  {
   "metadata": {
    "ExecuteTime": {
     "end_time": "2025-01-14T06:40:28.471104Z",
     "start_time": "2025-01-14T06:40:28.455988Z"
    }
   },
   "cell_type": "code",
   "source": [
    "# Change the value of array, what will this do to 'tensor'?\n",
    "\n",
    "array = array + 1\n",
    "array, tensor # Doesn't share memory"
   ],
   "id": "fbf1417abf471674",
   "outputs": [
    {
     "data": {
      "text/plain": [
       "(array([2., 3., 4., 5., 6., 7., 8.]), tensor([1., 2., 3., 4., 5., 6., 7.]))"
      ]
     },
     "execution_count": 78,
     "metadata": {},
     "output_type": "execute_result"
    }
   ],
   "execution_count": 78
  },
  {
   "metadata": {
    "ExecuteTime": {
     "end_time": "2025-01-14T06:41:28.882485Z",
     "start_time": "2025-01-14T06:41:28.868947Z"
    }
   },
   "cell_type": "code",
   "source": [
    "# Tensor to NumPy array\n",
    "tensor = torch.ones(7)\n",
    "numpy_tensor = tensor.numpy() # PyTorch default dtype is float32, reflected by NumPy when used\n",
    "tensor, numpy_tensor"
   ],
   "id": "98e20b7182f3d39",
   "outputs": [
    {
     "data": {
      "text/plain": [
       "(tensor([1., 1., 1., 1., 1., 1., 1.]),\n",
       " array([1., 1., 1., 1., 1., 1., 1.], dtype=float32))"
      ]
     },
     "execution_count": 79,
     "metadata": {},
     "output_type": "execute_result"
    }
   ],
   "execution_count": 79
  },
  {
   "metadata": {
    "ExecuteTime": {
     "end_time": "2025-01-14T06:42:38.183311Z",
     "start_time": "2025-01-14T06:42:38.168762Z"
    }
   },
   "cell_type": "code",
   "source": [
    "# Change the tensor, what happens to 'numpy_tensor'?\n",
    "tensor = tensor + 1\n",
    "tensor, numpy_tensor # Doesn't share memory"
   ],
   "id": "113d2658dd71d78",
   "outputs": [
    {
     "data": {
      "text/plain": [
       "(tensor([2., 2., 2., 2., 2., 2., 2.]),\n",
       " array([1., 1., 1., 1., 1., 1., 1.], dtype=float32))"
      ]
     },
     "execution_count": 80,
     "metadata": {},
     "output_type": "execute_result"
    }
   ],
   "execution_count": 80
  },
  {
   "metadata": {
    "ExecuteTime": {
     "end_time": "2025-01-14T08:27:55.523715Z",
     "start_time": "2025-01-14T08:27:55.516535Z"
    }
   },
   "cell_type": "code",
   "source": [
    "# Reproducibility (trying to take random out of random)\n",
    "# Create two random tensors\n",
    "random_tensor_A = torch.rand(3, 4)\n",
    "random_tensor_B = torch.rand(3, 4)\n",
    "\n",
    "print(random_tensor_A)\n",
    "print(random_tensor_B)\n",
    "print(random_tensor_A == random_tensor_B)"
   ],
   "id": "3cb0e3de24f0399f",
   "outputs": [
    {
     "name": "stdout",
     "output_type": "stream",
     "text": [
      "tensor([[0.4946, 0.9831, 0.5134, 0.2580],\n",
      "        [0.5002, 0.6152, 0.6283, 0.6972],\n",
      "        [0.5420, 0.5651, 0.0891, 0.8486]])\n",
      "tensor([[0.1901, 0.3035, 0.6512, 0.4057],\n",
      "        [0.8156, 0.6753, 0.9405, 0.6498],\n",
      "        [0.6329, 0.6110, 0.1847, 0.5707]])\n",
      "tensor([[False, False, False, False],\n",
      "        [False, False, False, False],\n",
      "        [False, False, False, False]])\n"
     ]
    }
   ],
   "execution_count": 83
  },
  {
   "metadata": {
    "ExecuteTime": {
     "end_time": "2025-01-14T08:26:49.358704Z",
     "start_time": "2025-01-14T08:26:49.343703Z"
    }
   },
   "cell_type": "code",
   "source": [
    "# Let's make some random but reproducible tensors\n",
    "# Set the random seed\n",
    "RANDOM_SEED = 77\n",
    "\n",
    "torch.manual_seed(RANDOM_SEED)\n",
    "random_tensor_C = torch.rand(3, 4)\n",
    "torch.manual_seed(RANDOM_SEED)\n",
    "random_tensor_D = torch.rand(3, 4)\n",
    "\n",
    "print(random_tensor_C)\n",
    "print(random_tensor_D)\n",
    "print(random_tensor_C == random_tensor_D)"
   ],
   "id": "e3c5963160f070f",
   "outputs": [
    {
     "name": "stdout",
     "output_type": "stream",
     "text": [
      "tensor([[0.2919, 0.2857, 0.4021, 0.4645],\n",
      "        [0.9503, 0.2564, 0.6645, 0.8609],\n",
      "        [0.3538, 0.3347, 0.7285, 0.5794]])\n",
      "tensor([[0.2919, 0.2857, 0.4021, 0.4645],\n",
      "        [0.9503, 0.2564, 0.6645, 0.8609],\n",
      "        [0.3538, 0.3347, 0.7285, 0.5794]])\n",
      "tensor([[True, True, True, True],\n",
      "        [True, True, True, True],\n",
      "        [True, True, True, True]])\n"
     ]
    }
   ],
   "execution_count": 82
  },
  {
   "metadata": {
    "ExecuteTime": {
     "end_time": "2025-01-14T08:28:25.017692Z",
     "start_time": "2025-01-14T08:28:25.002802Z"
    }
   },
   "cell_type": "code",
   "source": [
    "# Reproducibility in PyTorch: https://pytorch.org/docs/stable/notes/randomness.html\n",
    "# Concepts of random seed in computer science"
   ],
   "id": "d3029008ec9202b4",
   "outputs": [],
   "execution_count": 84
  },
  {
   "metadata": {
    "ExecuteTime": {
     "end_time": "2025-01-14T08:35:27.465764Z",
     "start_time": "2025-01-14T08:35:27.451765Z"
    }
   },
   "cell_type": "code",
   "source": [
    "# CUDA semantics: https://pytorch.org/docs/stable/notes/cuda.html\n",
    "import torch\n",
    "device = \"cuda\" if torch.cuda.is_available() else \"cpu\"\n",
    "device"
   ],
   "id": "b6d23feff3e640c0",
   "outputs": [
    {
     "data": {
      "text/plain": [
       "'cuda'"
      ]
     },
     "execution_count": 87,
     "metadata": {},
     "output_type": "execute_result"
    }
   ],
   "execution_count": 87
  },
  {
   "metadata": {
    "ExecuteTime": {
     "end_time": "2025-01-14T08:37:21.568281Z",
     "start_time": "2025-01-14T08:37:21.553798Z"
    }
   },
   "cell_type": "code",
   "source": [
    "# Create a tensor (default on the CPU)\n",
    "tensor = torch.tensor([1, 2, 3])\n",
    "print(tensor, tensor.device)"
   ],
   "id": "1112dec3f28ffb63",
   "outputs": [
    {
     "name": "stdout",
     "output_type": "stream",
     "text": [
      "tensor([1, 2, 3]) cpu\n"
     ]
    }
   ],
   "execution_count": 88
  },
  {
   "metadata": {
    "ExecuteTime": {
     "end_time": "2025-01-14T08:38:03.002929Z",
     "start_time": "2025-01-14T08:38:02.833902Z"
    }
   },
   "cell_type": "code",
   "source": [
    "# Move tensor to GPU (if available)\n",
    "tensor_on_gpu = tensor.to(device)\n",
    "tensor_on_gpu"
   ],
   "id": "9c9c858640d8c03b",
   "outputs": [
    {
     "data": {
      "text/plain": [
       "tensor([1, 2, 3], device='cuda:0')"
      ]
     },
     "execution_count": 89,
     "metadata": {},
     "output_type": "execute_result"
    }
   ],
   "execution_count": 89
  },
  {
   "metadata": {
    "ExecuteTime": {
     "end_time": "2025-01-14T08:40:09.567354Z",
     "start_time": "2025-01-14T08:40:09.552842Z"
    }
   },
   "cell_type": "code",
   "source": [
    "# Moving tensors back to the CPU (NumPy only works on CPU)\n",
    "tensor_back_on_cpu = tensor_on_gpu.cpu().numpy()\n",
    "tensor_back_on_cpu"
   ],
   "id": "3b32e6a6129dbdf9",
   "outputs": [
    {
     "data": {
      "text/plain": [
       "array([1, 2, 3], dtype=int64)"
      ]
     },
     "execution_count": 90,
     "metadata": {},
     "output_type": "execute_result"
    }
   ],
   "execution_count": 90
  }
 ],
 "metadata": {
  "kernelspec": {
   "display_name": "Python 3",
   "language": "python",
   "name": "python3"
  },
  "language_info": {
   "codemirror_mode": {
    "name": "ipython",
    "version": 2
   },
   "file_extension": ".py",
   "mimetype": "text/x-python",
   "name": "python",
   "nbconvert_exporter": "python",
   "pygments_lexer": "ipython2",
   "version": "2.7.6"
  }
 },
 "nbformat": 4,
 "nbformat_minor": 5
}
