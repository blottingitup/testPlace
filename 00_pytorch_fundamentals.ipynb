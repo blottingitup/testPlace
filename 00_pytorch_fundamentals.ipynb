{
 "cells": [
  {
   "metadata": {
    "ExecuteTime": {
     "end_time": "2025-01-13T03:30:46.800180Z",
     "start_time": "2025-01-13T03:30:44.435020Z"
    }
   },
   "cell_type": "code",
   "source": [
    "# Testing for required packages\n",
    "\n",
    "import pandas as pd\n",
    "import numpy as np\n",
    "import torch\n",
    "import sklearn\n",
    "import matplotlib\n",
    "import torchinfo, torchmetrics\n",
    "\n",
    "# Check PyTorch access (should print out a tensor)\n",
    "print(torch.randn(3, 3))\n",
    "\n",
    "# Check for GPU (should return True)\n",
    "print(torch.cuda.is_available())"
   ],
   "id": "3a6e6ec214590a5c",
   "outputs": [
    {
     "name": "stdout",
     "output_type": "stream",
     "text": [
      "tensor([[-0.4056,  1.3384, -1.3961],\n",
      "        [ 1.4582, -1.3275,  0.1073],\n",
      "        [ 0.0046,  0.1541, -0.1120]])\n",
      "True\n"
     ]
    }
   ],
   "execution_count": 1
  },
  {
   "metadata": {
    "ExecuteTime": {
     "end_time": "2025-01-13T04:21:24.191978Z",
     "start_time": "2025-01-13T04:21:24.180473Z"
    }
   },
   "cell_type": "code",
   "source": [
    "import torch\n",
    "print(torch.__version__)"
   ],
   "id": "36a415c877fc87c7",
   "outputs": [
    {
     "name": "stdout",
     "output_type": "stream",
     "text": [
      "2.5.1\n"
     ]
    }
   ],
   "execution_count": 11
  },
  {
   "metadata": {
    "ExecuteTime": {
     "end_time": "2025-01-13T04:21:46.728843Z",
     "start_time": "2025-01-13T04:21:46.711305Z"
    }
   },
   "cell_type": "code",
   "source": [
    "# More about tensors: https://pytorch.org/docs/stable/tensors.html\n",
    "\n",
    "scalar = torch.tensor(7)\n",
    "print(scalar)"
   ],
   "id": "61513757a5617012",
   "outputs": [
    {
     "name": "stdout",
     "output_type": "stream",
     "text": [
      "tensor(7)\n"
     ]
    }
   ],
   "execution_count": 12
  },
  {
   "metadata": {
    "ExecuteTime": {
     "end_time": "2025-01-13T04:25:09.272811Z",
     "start_time": "2025-01-13T04:25:09.259607Z"
    }
   },
   "cell_type": "code",
   "source": "scalar.ndim",
   "id": "f741afc92e69474b",
   "outputs": [
    {
     "data": {
      "text/plain": [
       "0"
      ]
     },
     "execution_count": 18,
     "metadata": {},
     "output_type": "execute_result"
    }
   ],
   "execution_count": 18
  },
  {
   "metadata": {
    "ExecuteTime": {
     "end_time": "2025-01-13T04:25:10.685390Z",
     "start_time": "2025-01-13T04:25:10.670857Z"
    }
   },
   "cell_type": "code",
   "source": [
    "# Get tensor back as Python int\n",
    "scalar.item()"
   ],
   "id": "89de20fdd1a3c05",
   "outputs": [
    {
     "data": {
      "text/plain": [
       "7"
      ]
     },
     "execution_count": 19,
     "metadata": {},
     "output_type": "execute_result"
    }
   ],
   "execution_count": 19
  },
  {
   "metadata": {
    "ExecuteTime": {
     "end_time": "2025-01-13T04:25:49.435471Z",
     "start_time": "2025-01-13T04:25:49.422399Z"
    }
   },
   "cell_type": "code",
   "source": [
    "# Vector\n",
    "vector = torch.tensor([7, 7])\n",
    "vector"
   ],
   "id": "b2213bcc252ee194",
   "outputs": [
    {
     "data": {
      "text/plain": [
       "tensor([7, 7])"
      ]
     },
     "execution_count": 21,
     "metadata": {},
     "output_type": "execute_result"
    }
   ],
   "execution_count": 21
  },
  {
   "metadata": {
    "ExecuteTime": {
     "end_time": "2025-01-13T04:26:37.775314Z",
     "start_time": "2025-01-13T04:26:37.761171Z"
    }
   },
   "cell_type": "code",
   "source": "vector.shape",
   "id": "db78e763e9a8f2dd",
   "outputs": [
    {
     "data": {
      "text/plain": [
       "torch.Size([2])"
      ]
     },
     "execution_count": 22,
     "metadata": {},
     "output_type": "execute_result"
    }
   ],
   "execution_count": 22
  },
  {
   "metadata": {
    "ExecuteTime": {
     "end_time": "2025-01-13T04:28:02.531188Z",
     "start_time": "2025-01-13T04:28:02.517169Z"
    }
   },
   "cell_type": "code",
   "source": [
    "# MATRIX\n",
    "MATRIX = torch.tensor([[7, 8],\n",
    "                      [9, 10]])\n",
    "MATRIX"
   ],
   "id": "f89bb741dd0a06a2",
   "outputs": [
    {
     "data": {
      "text/plain": [
       "tensor([[ 7,  8],\n",
       "        [ 9, 10]])"
      ]
     },
     "execution_count": 25,
     "metadata": {},
     "output_type": "execute_result"
    }
   ],
   "execution_count": 25
  },
  {
   "metadata": {
    "ExecuteTime": {
     "end_time": "2025-01-13T04:28:22.807994Z",
     "start_time": "2025-01-13T04:28:22.793861Z"
    }
   },
   "cell_type": "code",
   "source": "MATRIX.ndim",
   "id": "9e612e43445f9cef",
   "outputs": [
    {
     "data": {
      "text/plain": [
       "2"
      ]
     },
     "execution_count": 26,
     "metadata": {},
     "output_type": "execute_result"
    }
   ],
   "execution_count": 26
  },
  {
   "metadata": {
    "ExecuteTime": {
     "end_time": "2025-01-13T04:28:34.547668Z",
     "start_time": "2025-01-13T04:28:34.534418Z"
    }
   },
   "cell_type": "code",
   "source": [
    "#MATRIX[0]\n",
    "MATRIX[1]"
   ],
   "id": "188f32a4e2a6eba9",
   "outputs": [
    {
     "data": {
      "text/plain": [
       "tensor([ 9, 10])"
      ]
     },
     "execution_count": 27,
     "metadata": {},
     "output_type": "execute_result"
    }
   ],
   "execution_count": 27
  },
  {
   "metadata": {
    "ExecuteTime": {
     "end_time": "2025-01-13T04:28:48.788098Z",
     "start_time": "2025-01-13T04:28:48.774442Z"
    }
   },
   "cell_type": "code",
   "source": "MATRIX.shape",
   "id": "f620ae2ab33a3819",
   "outputs": [
    {
     "data": {
      "text/plain": [
       "torch.Size([2, 2])"
      ]
     },
     "execution_count": 28,
     "metadata": {},
     "output_type": "execute_result"
    }
   ],
   "execution_count": 28
  },
  {
   "metadata": {
    "ExecuteTime": {
     "end_time": "2025-01-13T04:33:38.897845Z",
     "start_time": "2025-01-13T04:33:38.883845Z"
    }
   },
   "cell_type": "code",
   "source": [
    "# TENSOR\n",
    "TENSOR = torch.tensor([[[1, 2, 3],\n",
    "                        [3, 6, 9],\n",
    "                        [2, 4, 5],\n",
    "                        [4, 5, 6]]])\n",
    "TENSOR"
   ],
   "id": "7ab66dbd735eab27",
   "outputs": [
    {
     "data": {
      "text/plain": [
       "tensor([[[1, 2, 3],\n",
       "         [3, 6, 9],\n",
       "         [2, 4, 5],\n",
       "         [4, 5, 6]]])"
      ]
     },
     "execution_count": 33,
     "metadata": {},
     "output_type": "execute_result"
    }
   ],
   "execution_count": 33
  },
  {
   "metadata": {
    "ExecuteTime": {
     "end_time": "2025-01-13T04:33:40.479409Z",
     "start_time": "2025-01-13T04:33:40.475412Z"
    }
   },
   "cell_type": "code",
   "source": "TENSOR.ndim",
   "id": "6b9043c788f50b0d",
   "outputs": [
    {
     "data": {
      "text/plain": [
       "3"
      ]
     },
     "execution_count": 34,
     "metadata": {},
     "output_type": "execute_result"
    }
   ],
   "execution_count": 34
  },
  {
   "metadata": {
    "ExecuteTime": {
     "end_time": "2025-01-13T04:33:43.483937Z",
     "start_time": "2025-01-13T04:33:43.469645Z"
    }
   },
   "cell_type": "code",
   "source": "TENSOR.shape",
   "id": "75954b68b2d9d48c",
   "outputs": [
    {
     "data": {
      "text/plain": [
       "torch.Size([1, 4, 3])"
      ]
     },
     "execution_count": 35,
     "metadata": {},
     "output_type": "execute_result"
    }
   ],
   "execution_count": 35
  },
  {
   "metadata": {
    "ExecuteTime": {
     "end_time": "2025-01-13T04:33:57.310435Z",
     "start_time": "2025-01-13T04:33:57.294754Z"
    }
   },
   "cell_type": "code",
   "source": "TENSOR[0]",
   "id": "c1f57c5bd5b61591",
   "outputs": [
    {
     "data": {
      "text/plain": [
       "tensor([[1, 2, 3],\n",
       "        [3, 6, 9],\n",
       "        [2, 4, 5],\n",
       "        [4, 5, 6]])"
      ]
     },
     "execution_count": 36,
     "metadata": {},
     "output_type": "execute_result"
    }
   ],
   "execution_count": 36
  },
  {
   "metadata": {
    "ExecuteTime": {
     "end_time": "2025-01-13T04:44:15.231165Z",
     "start_time": "2025-01-13T04:44:15.215611Z"
    }
   },
   "cell_type": "code",
   "source": [
    "# Random tensors\n",
    "# Start with random numbers -> look at data -> update random numbers -> look at data -> update random numbers\n",
    "# Torch random tensors: https://pytorch.org/docs/main/generated/torch.rand.html\n",
    "\n",
    "# Create a random tensor of size (3, 4)\n",
    "random_tensor = torch.rand(2, 3, 4)\n",
    "random_tensor"
   ],
   "id": "d8136225679f9105",
   "outputs": [
    {
     "data": {
      "text/plain": [
       "tensor([[[0.1023, 0.8914, 0.4446, 0.8655],\n",
       "         [0.4312, 0.8294, 0.2635, 0.3456],\n",
       "         [0.8555, 0.3691, 0.0330, 0.0853]],\n",
       "\n",
       "        [[0.3483, 0.8226, 0.1097, 0.5936],\n",
       "         [0.5458, 0.4432, 0.0282, 0.8603],\n",
       "         [0.9080, 0.2644, 0.9969, 0.2431]]])"
      ]
     },
     "execution_count": 40,
     "metadata": {},
     "output_type": "execute_result"
    }
   ],
   "execution_count": 40
  },
  {
   "metadata": {
    "ExecuteTime": {
     "end_time": "2025-01-13T04:44:18.985651Z",
     "start_time": "2025-01-13T04:44:18.978141Z"
    }
   },
   "cell_type": "code",
   "source": "random_tensor.ndim",
   "id": "d8c6554a50512e7b",
   "outputs": [
    {
     "data": {
      "text/plain": [
       "3"
      ]
     },
     "execution_count": 41,
     "metadata": {},
     "output_type": "execute_result"
    }
   ],
   "execution_count": 41
  },
  {
   "metadata": {
    "ExecuteTime": {
     "end_time": "2025-01-13T04:42:25.350707Z",
     "start_time": "2025-01-13T04:42:25.335710Z"
    }
   },
   "cell_type": "code",
   "source": [
    "# Create a random tensor with similar shape to an image tensor\n",
    "random_image_size_tensor = torch.rand(size=(224, 224, 3)) # height, width, color channels (R, G, B) << color can go at the front\n",
    "random_image_size_tensor.shape, random_image_size_tensor.ndim"
   ],
   "id": "bb8cc400576ea77c",
   "outputs": [
    {
     "data": {
      "text/plain": [
       "(torch.Size([224, 224, 3]), 3)"
      ]
     },
     "execution_count": 39,
     "metadata": {},
     "output_type": "execute_result"
    }
   ],
   "execution_count": 39
  },
  {
   "metadata": {
    "ExecuteTime": {
     "end_time": "2025-01-13T04:45:27.226100Z",
     "start_time": "2025-01-13T04:45:27.211100Z"
    }
   },
   "cell_type": "code",
   "source": [
    "# Create tensors of all zeros\n",
    "zeros = torch.zeros(size=(3, 4))\n",
    "zeros"
   ],
   "id": "2dc6081722ebda4c",
   "outputs": [
    {
     "data": {
      "text/plain": [
       "tensor([[0., 0., 0., 0.],\n",
       "        [0., 0., 0., 0.],\n",
       "        [0., 0., 0., 0.]])"
      ]
     },
     "execution_count": 42,
     "metadata": {},
     "output_type": "execute_result"
    }
   ],
   "execution_count": 42
  },
  {
   "metadata": {
    "ExecuteTime": {
     "end_time": "2025-01-13T04:45:38.311297Z",
     "start_time": "2025-01-13T04:45:38.296789Z"
    }
   },
   "cell_type": "code",
   "source": "zeros*random_tensor",
   "id": "55a7ba319877de36",
   "outputs": [
    {
     "data": {
      "text/plain": [
       "tensor([[[0., 0., 0., 0.],\n",
       "         [0., 0., 0., 0.],\n",
       "         [0., 0., 0., 0.]],\n",
       "\n",
       "        [[0., 0., 0., 0.],\n",
       "         [0., 0., 0., 0.],\n",
       "         [0., 0., 0., 0.]]])"
      ]
     },
     "execution_count": 43,
     "metadata": {},
     "output_type": "execute_result"
    }
   ],
   "execution_count": 43
  },
  {
   "metadata": {
    "ExecuteTime": {
     "end_time": "2025-01-13T04:46:20.308746Z",
     "start_time": "2025-01-13T04:46:20.294746Z"
    }
   },
   "cell_type": "code",
   "source": [
    "# Create tensors of all ones\n",
    "# Tensor of all zeros or ones can work as a mask\n",
    "ones = torch.ones(size=(3, 4))\n",
    "ones"
   ],
   "id": "2a24558e2eea2cc6",
   "outputs": [
    {
     "data": {
      "text/plain": [
       "tensor([[1., 1., 1., 1.],\n",
       "        [1., 1., 1., 1.],\n",
       "        [1., 1., 1., 1.]])"
      ]
     },
     "execution_count": 44,
     "metadata": {},
     "output_type": "execute_result"
    }
   ],
   "execution_count": 44
  },
  {
   "metadata": {
    "ExecuteTime": {
     "end_time": "2025-01-13T04:46:39.174327Z",
     "start_time": "2025-01-13T04:46:39.160181Z"
    }
   },
   "cell_type": "code",
   "source": "ones.dtype",
   "id": "90eaeaf0a8887794",
   "outputs": [
    {
     "data": {
      "text/plain": [
       "torch.float32"
      ]
     },
     "execution_count": 45,
     "metadata": {},
     "output_type": "execute_result"
    }
   ],
   "execution_count": 45
  },
  {
   "metadata": {
    "ExecuteTime": {
     "end_time": "2025-01-13T04:46:53.944625Z",
     "start_time": "2025-01-13T04:46:53.929618Z"
    }
   },
   "cell_type": "code",
   "source": "random_tensor.dtype",
   "id": "5b2e78dfcc04841d",
   "outputs": [
    {
     "data": {
      "text/plain": [
       "torch.float32"
      ]
     },
     "execution_count": 46,
     "metadata": {},
     "output_type": "execute_result"
    }
   ],
   "execution_count": 46
  },
  {
   "metadata": {
    "ExecuteTime": {
     "end_time": "2025-01-13T04:49:49.175259Z",
     "start_time": "2025-01-13T04:49:49.161674Z"
    }
   },
   "cell_type": "code",
   "source": [
    "# Creating a range of tensors\n",
    "# Torch arange: https://pytorch.org/docs/stable/generated/torch.arange.html\n",
    "one_to_ten = torch.arange(start=1, end=11, step=1)\n",
    "one_to_ten"
   ],
   "id": "3efbdd50736b4322",
   "outputs": [
    {
     "data": {
      "text/plain": [
       "tensor([ 1,  2,  3,  4,  5,  6,  7,  8,  9, 10])"
      ]
     },
     "execution_count": 50,
     "metadata": {},
     "output_type": "execute_result"
    }
   ],
   "execution_count": 50
  },
  {
   "metadata": {
    "ExecuteTime": {
     "end_time": "2025-01-13T04:51:00.337008Z",
     "start_time": "2025-01-13T04:51:00.324001Z"
    }
   },
   "cell_type": "code",
   "source": [
    "# Creating tensors-like\n",
    "ten_zeros = torch.zeros_like(input=one_to_ten)\n",
    "ten_zeros"
   ],
   "id": "b785763c89350d5c",
   "outputs": [
    {
     "data": {
      "text/plain": [
       "tensor([0, 0, 0, 0, 0, 0, 0, 0, 0, 0])"
      ]
     },
     "execution_count": 52,
     "metadata": {},
     "output_type": "execute_result"
    }
   ],
   "execution_count": 52
  },
  {
   "metadata": {
    "ExecuteTime": {
     "end_time": "2025-01-13T04:53:49.432773Z",
     "start_time": "2025-01-13T04:53:49.418769Z"
    }
   },
   "cell_type": "code",
   "source": [
    "# Will there be ones_like?\n",
    "ten_ones = torch.ones_like(one_to_ten)\n",
    "ten_ones"
   ],
   "id": "4915812da332ae4b",
   "outputs": [
    {
     "data": {
      "text/plain": [
       "tensor([1, 1, 1, 1, 1, 1, 1, 1, 1, 1])"
      ]
     },
     "execution_count": 53,
     "metadata": {},
     "output_type": "execute_result"
    }
   ],
   "execution_count": 53
  },
  {
   "metadata": {
    "ExecuteTime": {
     "end_time": "2025-01-13T05:01:07.070623Z",
     "start_time": "2025-01-13T05:01:07.065115Z"
    }
   },
   "cell_type": "code",
   "source": [
    "# Float 32 tensor\n",
    "# datatype: the datatype of the tensor (e.g. float32 or float16)\n",
    "# device: what device is your tensor is on\n",
    "# requires_grad: whether or not to track gradients with this tensors operation\n",
    "float_32_tensor = torch.tensor([3.0, 6.0, 9.0], dtype=None, device=None, requires_grad=False)\n",
    "float_32_tensor"
   ],
   "id": "86bc0692085b61b0",
   "outputs": [
    {
     "data": {
      "text/plain": [
       "tensor([3., 6., 9.])"
      ]
     },
     "execution_count": 59,
     "metadata": {},
     "output_type": "execute_result"
    }
   ],
   "execution_count": 59
  },
  {
   "metadata": {
    "ExecuteTime": {
     "end_time": "2025-01-13T05:05:27.321020Z",
     "start_time": "2025-01-13T05:05:27.308021Z"
    }
   },
   "cell_type": "code",
   "source": [
    "float_16_tensor = float_32_tensor.type(torch.float16)\n",
    "float_16_tensor"
   ],
   "id": "7099a3700a6e56b6",
   "outputs": [
    {
     "data": {
      "text/plain": [
       "tensor([3., 6., 9.], dtype=torch.float16)"
      ]
     },
     "execution_count": 61,
     "metadata": {},
     "output_type": "execute_result"
    }
   ],
   "execution_count": 61
  },
  {
   "metadata": {
    "ExecuteTime": {
     "end_time": "2025-01-13T05:07:38.195221Z",
     "start_time": "2025-01-13T05:07:38.180716Z"
    }
   },
   "cell_type": "code",
   "source": [
    "int_32_tensor = torch.tensor([3, 6, 9], dtype=torch.int32)\n",
    "int_32_tensor"
   ],
   "id": "dc6d302f67c60eb6",
   "outputs": [
    {
     "data": {
      "text/plain": [
       "tensor([3, 6, 9], dtype=torch.int32)"
      ]
     },
     "execution_count": 62,
     "metadata": {},
     "output_type": "execute_result"
    }
   ],
   "execution_count": 62
  },
  {
   "metadata": {
    "ExecuteTime": {
     "end_time": "2025-01-13T05:07:46.689693Z",
     "start_time": "2025-01-13T05:07:46.675681Z"
    }
   },
   "cell_type": "code",
   "source": [
    "# Check the data types\n",
    "float_32_tensor * int_32_tensor"
   ],
   "id": "800eca7b11a72f65",
   "outputs": [
    {
     "data": {
      "text/plain": [
       "tensor([ 9., 36., 81.])"
      ]
     },
     "execution_count": 63,
     "metadata": {},
     "output_type": "execute_result"
    }
   ],
   "execution_count": 63
  },
  {
   "metadata": {
    "ExecuteTime": {
     "end_time": "2025-01-13T05:10:55.800060Z",
     "start_time": "2025-01-13T05:10:55.786532Z"
    }
   },
   "cell_type": "code",
   "source": [
    "# Getting information from tensors\n",
    "# 1. Tensors not right datatype - can use tensor.dtype\n",
    "# 2. Tensors not right shape - can use tensor.shape\n",
    "# 3. Tensors not on the right device - can use tensor.device"
   ],
   "id": "ea5988d68c1f618d",
   "outputs": [],
   "execution_count": 64
  },
  {
   "metadata": {
    "ExecuteTime": {
     "end_time": "2025-01-13T05:14:24.160277Z",
     "start_time": "2025-01-13T05:14:24.156280Z"
    }
   },
   "cell_type": "code",
   "source": [
    "# Create a tensor\n",
    "some_tensor = torch.rand(5, 7, dtype=torch.float64)"
   ],
   "id": "de45d4519383188c",
   "outputs": [],
   "execution_count": 70
  },
  {
   "metadata": {
    "ExecuteTime": {
     "end_time": "2025-01-13T05:14:25.048634Z",
     "start_time": "2025-01-13T05:14:25.043635Z"
    }
   },
   "cell_type": "code",
   "source": [
    "# Find out details about some tensor\n",
    "print(some_tensor)\n",
    "print(f\"Datatype of tensor: {some_tensor.dtype}\")\n",
    "print(f\"Shape of tensor: {some_tensor.shape}\") # .size is a function, .shape is an attribute\n",
    "print(f\"Device tensor is on: {some_tensor.device}\")"
   ],
   "id": "865cdbcfe6730bc3",
   "outputs": [
    {
     "name": "stdout",
     "output_type": "stream",
     "text": [
      "tensor([[0.3388, 0.1346, 0.8042, 0.0343, 0.3684, 0.6713, 0.8391],\n",
      "        [0.0917, 0.1986, 0.1583, 0.3875, 0.8975, 0.9349, 0.9814],\n",
      "        [0.9996, 0.2134, 0.4213, 0.9390, 0.2977, 0.6272, 0.7558],\n",
      "        [0.7124, 0.2887, 0.7410, 0.4768, 0.9295, 0.4144, 0.2718],\n",
      "        [0.1642, 0.2163, 0.5426, 0.7112, 0.1655, 0.2471, 0.5205]],\n",
      "       dtype=torch.float64)\n",
      "Datatype of tensor: torch.float64\n",
      "Shape of tensor: torch.Size([5, 7])\n",
      "Device tensor is on: cpu\n"
     ]
    }
   ],
   "execution_count": 71
  },
  {
   "metadata": {
    "ExecuteTime": {
     "end_time": "2025-01-13T05:16:35.489609Z",
     "start_time": "2025-01-13T05:16:35.476133Z"
    }
   },
   "cell_type": "code",
   "source": [
    "# Manipulating tensors (tensor operations)\n",
    "# Operations: Addition, Subtraction, Multiplication (element-wise), Division, Matrix Multiplication"
   ],
   "id": "49655e0291cb5391",
   "outputs": [],
   "execution_count": 72
  },
  {
   "metadata": {
    "ExecuteTime": {
     "end_time": "2025-01-13T05:17:04.465573Z",
     "start_time": "2025-01-13T05:17:04.451063Z"
    }
   },
   "cell_type": "code",
   "source": [
    "# Create a tensor and add 10 to it\n",
    "tensor = torch.tensor([1, 2, 3])\n",
    "tensor + 10"
   ],
   "id": "b866f9f7fa111000",
   "outputs": [
    {
     "data": {
      "text/plain": [
       "tensor([11, 12, 13])"
      ]
     },
     "execution_count": 73,
     "metadata": {},
     "output_type": "execute_result"
    }
   ],
   "execution_count": 73
  },
  {
   "metadata": {
    "ExecuteTime": {
     "end_time": "2025-01-13T05:17:28.981137Z",
     "start_time": "2025-01-13T05:17:28.966622Z"
    }
   },
   "cell_type": "code",
   "source": [
    "# Multiply tensor by 10\n",
    "tensor * 10"
   ],
   "id": "f067757a39f39e37",
   "outputs": [
    {
     "data": {
      "text/plain": [
       "tensor([10, 20, 30])"
      ]
     },
     "execution_count": 74,
     "metadata": {},
     "output_type": "execute_result"
    }
   ],
   "execution_count": 74
  },
  {
   "metadata": {
    "ExecuteTime": {
     "end_time": "2025-01-13T05:18:29.743159Z",
     "start_time": "2025-01-13T05:18:29.729481Z"
    }
   },
   "cell_type": "code",
   "source": [
    "# Subtract 10 from tensor\n",
    "tensor - 10"
   ],
   "id": "f3f5fe4ec5c1f23e",
   "outputs": [
    {
     "data": {
      "text/plain": [
       "tensor([-9, -8, -7])"
      ]
     },
     "execution_count": 75,
     "metadata": {},
     "output_type": "execute_result"
    }
   ],
   "execution_count": 75
  },
  {
   "metadata": {
    "ExecuteTime": {
     "end_time": "2025-01-13T05:20:01.510439Z",
     "start_time": "2025-01-13T05:20:01.497926Z"
    }
   },
   "cell_type": "code",
   "source": [
    "#Try out PyTorch in-built functions\n",
    "torch.mul(tensor, 10)"
   ],
   "id": "f78bae7970671ef1",
   "outputs": [
    {
     "data": {
      "text/plain": [
       "tensor([10, 20, 30])"
      ]
     },
     "execution_count": 78,
     "metadata": {},
     "output_type": "execute_result"
    }
   ],
   "execution_count": 78
  },
  {
   "metadata": {
    "ExecuteTime": {
     "end_time": "2025-01-13T05:20:05.491630Z",
     "start_time": "2025-01-13T05:20:05.479121Z"
    }
   },
   "cell_type": "code",
   "source": "torch.add(tensor, 10)",
   "id": "b23f1090c215b4eb",
   "outputs": [
    {
     "data": {
      "text/plain": [
       "tensor([11, 12, 13])"
      ]
     },
     "execution_count": 80,
     "metadata": {},
     "output_type": "execute_result"
    }
   ],
   "execution_count": 80
  },
  {
   "metadata": {
    "ExecuteTime": {
     "end_time": "2025-01-13T08:43:03.536840Z",
     "start_time": "2025-01-13T08:43:03.522841Z"
    }
   },
   "cell_type": "code",
   "source": "#",
   "id": "c771fda4deb48c52",
   "outputs": [],
   "execution_count": 81
  },
  {
   "metadata": {
    "ExecuteTime": {
     "end_time": "2025-01-13T08:43:29.484428Z",
     "start_time": "2025-01-13T08:43:29.469429Z"
    }
   },
   "cell_type": "code",
   "source": [
    "# Element wise multiplication\n",
    "print(f\"Equals: {tensor * tensor}\")"
   ],
   "id": "bce98baae6fa04a2",
   "outputs": [
    {
     "name": "stdout",
     "output_type": "stream",
     "text": [
      "Equals: tensor([1, 4, 9])\n"
     ]
    }
   ],
   "execution_count": 82
  },
  {
   "metadata": {
    "ExecuteTime": {
     "end_time": "2025-01-13T08:43:49.521908Z",
     "start_time": "2025-01-13T08:43:49.507312Z"
    }
   },
   "cell_type": "code",
   "source": [
    "# Matrix multiplication\n",
    "torch.matmul(tensor, tensor)"
   ],
   "id": "a42be00ddc46f59e",
   "outputs": [
    {
     "data": {
      "text/plain": [
       "tensor(14)"
      ]
     },
     "execution_count": 83,
     "metadata": {},
     "output_type": "execute_result"
    }
   ],
   "execution_count": 83
  },
  {
   "metadata": {
    "ExecuteTime": {
     "end_time": "2025-01-13T08:46:30.154970Z",
     "start_time": "2025-01-13T08:46:30.140970Z"
    }
   },
   "cell_type": "code",
   "source": [
    "%%time\n",
    "value = 0\n",
    "for i in range(len(tensor)):\n",
    "    value += tensor[i] * tensor[i]\n",
    "print(value)"
   ],
   "id": "c3ee3704f9022d82",
   "outputs": [
    {
     "name": "stdout",
     "output_type": "stream",
     "text": [
      "tensor(14)\n",
      "CPU times: total: 0 ns\n",
      "Wall time: 999 µs\n"
     ]
    }
   ],
   "execution_count": 84
  },
  {
   "metadata": {
    "ExecuteTime": {
     "end_time": "2025-01-13T08:46:48.175459Z",
     "start_time": "2025-01-13T08:46:48.160954Z"
    }
   },
   "cell_type": "code",
   "source": [
    "%%time\n",
    "torch.matmul(tensor, tensor)"
   ],
   "id": "654c5a2afc845d17",
   "outputs": [
    {
     "name": "stdout",
     "output_type": "stream",
     "text": [
      "CPU times: total: 0 ns\n",
      "Wall time: 0 ns\n"
     ]
    },
    {
     "data": {
      "text/plain": [
       "tensor(14)"
      ]
     },
     "execution_count": 85,
     "metadata": {},
     "output_type": "execute_result"
    }
   ],
   "execution_count": 85
  },
  {
   "metadata": {
    "ExecuteTime": {
     "end_time": "2025-01-13T08:59:32.739458Z",
     "start_time": "2025-01-13T08:59:32.730458Z"
    }
   },
   "cell_type": "code",
   "source": [
    "# Shapes for matrix multiplication\n",
    "tensor_A = torch.tensor([[1, 2],\n",
    "                         [3, 4],\n",
    "                         [5, 6]])\n",
    "tensor_B = torch.tensor([[7, 10],\n",
    "                         [8, 11],\n",
    "                         [9, 12]])\n",
    "# torch.mm is the same as torch.matmul (alias)\n",
    "# torch.mm(tensor_A, tensor_B) << Shape error\n",
    "\n",
    "# We can manipulate the shape of one of out tensors using transpose"
   ],
   "id": "4a4d517ad7036b04",
   "outputs": [],
   "execution_count": 93
  },
  {
   "metadata": {
    "ExecuteTime": {
     "end_time": "2025-01-13T08:59:34.365582Z",
     "start_time": "2025-01-13T08:59:34.360582Z"
    }
   },
   "cell_type": "code",
   "source": "tensor_B, tensor_B.shape",
   "id": "fc6e33a0362e8443",
   "outputs": [
    {
     "data": {
      "text/plain": [
       "(tensor([[ 7, 10],\n",
       "         [ 8, 11],\n",
       "         [ 9, 12]]),\n",
       " torch.Size([3, 2]))"
      ]
     },
     "execution_count": 94,
     "metadata": {},
     "output_type": "execute_result"
    }
   ],
   "execution_count": 94
  },
  {
   "metadata": {
    "ExecuteTime": {
     "end_time": "2025-01-13T08:59:35.177395Z",
     "start_time": "2025-01-13T08:59:35.173396Z"
    }
   },
   "cell_type": "code",
   "source": "tensor_B.T, tensor_B.T.shape",
   "id": "868713f2a122abec",
   "outputs": [
    {
     "data": {
      "text/plain": [
       "(tensor([[ 7,  8,  9],\n",
       "         [10, 11, 12]]),\n",
       " torch.Size([2, 3]))"
      ]
     },
     "execution_count": 95,
     "metadata": {},
     "output_type": "execute_result"
    }
   ],
   "execution_count": 95
  },
  {
   "metadata": {
    "ExecuteTime": {
     "end_time": "2025-01-13T08:59:36.266391Z",
     "start_time": "2025-01-13T08:59:36.257392Z"
    }
   },
   "cell_type": "code",
   "source": [
    "# The matrix multiplication operation works when tensor_B is transposed\n",
    "print(f\"Original shapes: tensor_A = {tensor_A.shape}, tensor_B = {tensor_B.shape}\")\n",
    "print(f\"Original shapes: tensor_A = {tensor_A.shape} (same shape as above), tensor_B.T = {tensor_B.T.shape}\")\n",
    "print(f\"Multiplying: {tensor_A.shape} @ {tensor_B.T.shape} <- inner dimensions must match\")\n",
    "print(\"Output:\\n\")\n",
    "output = torch.mm(tensor_A, tensor_B.T)\n",
    "print(output)\n",
    "print(f\"\\nOutput shape: {output.shape}\")"
   ],
   "id": "81628447a4c67606",
   "outputs": [
    {
     "name": "stdout",
     "output_type": "stream",
     "text": [
      "Original shapes: tensor_A = torch.Size([3, 2]), tensor_B = torch.Size([3, 2])\n",
      "Original shapes: tensor_A = torch.Size([3, 2]) (same shape as above), tensor_B.T = torch.Size([2, 3])\n",
      "Multiplying: torch.Size([3, 2]) @ torch.Size([2, 3]) <- inner dimensions must match\n",
      "Output:\n",
      "\n",
      "tensor([[ 27,  30,  33],\n",
      "        [ 61,  68,  75],\n",
      "        [ 95, 106, 117]])\n",
      "\n",
      "Output shape: torch.Size([3, 3])\n"
     ]
    }
   ],
   "execution_count": 96
  }
 ],
 "metadata": {
  "kernelspec": {
   "display_name": "Python 3",
   "language": "python",
   "name": "python3"
  },
  "language_info": {
   "codemirror_mode": {
    "name": "ipython",
    "version": 2
   },
   "file_extension": ".py",
   "mimetype": "text/x-python",
   "name": "python",
   "nbconvert_exporter": "python",
   "pygments_lexer": "ipython2",
   "version": "2.7.6"
  }
 },
 "nbformat": 4,
 "nbformat_minor": 5
}
